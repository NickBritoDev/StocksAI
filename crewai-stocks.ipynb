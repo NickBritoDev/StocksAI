{
 "cells": [
  {
   "cell_type": "code",
   "execution_count": 8,
   "metadata": {},
   "outputs": [],
   "source": [
    "#IMPORTAÇÃO\n",
    "#pip install yfinance\n",
    "#pip install crewai\n",
    "#pip install 'crewai[tools]'\n",
    "#pip install crewai crewai-tools"
   ]
  },
  {
   "cell_type": "code",
   "execution_count": 9,
   "metadata": {},
   "outputs": [],
   "source": [
    "#IMPORT DA LIBS\n",
    "import json\n",
    "import os\n",
    "from datetime import datetime\n",
    "import yfinance as yf\n",
    "from crewai import Tools, Agent, Task"
   ]
  },
  {
   "cell_type": "code",
   "execution_count": 13,
   "metadata": {},
   "outputs": [
    {
     "name": "stderr",
     "output_type": "stream",
     "text": [
      "[*********************100%%**********************]  1 of 1 completed"
     ]
    },
    {
     "name": "stdout",
     "output_type": "stream",
     "text": [
      "                  Open        High         Low       Close   Adj Close  \\\n",
      "Date                                                                     \n",
      "2023-08-08  179.690002  180.270004  177.580002  179.800003  178.643387   \n",
      "2023-08-09  180.869995  180.929993  177.009995  178.190002  177.043777   \n",
      "2023-08-10  179.479996  180.750000  177.600006  177.970001  176.825165   \n",
      "2023-08-11  177.320007  178.619995  176.550003  177.789993  176.884872   \n",
      "2023-08-14  177.970001  179.690002  177.309998  179.460007  178.546371   \n",
      "...                ...         ...         ...         ...         ...   \n",
      "2023-12-29  193.899994  194.399994  191.729996  192.529999  191.802170   \n",
      "2024-01-02  187.149994  188.440002  183.889999  185.639999  184.938217   \n",
      "2024-01-03  184.220001  185.880005  183.429993  184.250000  183.553467   \n",
      "2024-01-04  182.149994  183.089996  180.880005  181.910004  181.222336   \n",
      "2024-01-05  181.990005  182.759995  180.169998  181.179993  180.495071   \n",
      "\n",
      "              Volume  \n",
      "Date                  \n",
      "2023-08-08  67823000  \n",
      "2023-08-09  60378500  \n",
      "2023-08-10  54686900  \n",
      "2023-08-11  51988100  \n",
      "2023-08-14  43675600  \n",
      "...              ...  \n",
      "2023-12-29  42628800  \n",
      "2024-01-02  82488700  \n",
      "2024-01-03  58414500  \n",
      "2024-01-04  71983600  \n",
      "2024-01-05  62303300  \n",
      "\n",
      "[105 rows x 6 columns]\n"
     ]
    },
    {
     "name": "stderr",
     "output_type": "stream",
     "text": [
      "\n"
     ]
    }
   ],
   "source": [
    "def fetch_stock_price(ticket):\n",
    "    stocks = yf.download(ticket, start=\"2023-08-08\", end=\"2024-01-08\")\n",
    "    return stocks"
   ]
  }
 ],
 "metadata": {
  "kernelspec": {
   "display_name": "Python 3",
   "language": "python",
   "name": "python3"
  },
  "language_info": {
   "codemirror_mode": {
    "name": "ipython",
    "version": 3
   },
   "file_extension": ".py",
   "mimetype": "text/x-python",
   "name": "python",
   "nbconvert_exporter": "python",
   "pygments_lexer": "ipython3",
   "version": "3.12.5"
  }
 },
 "nbformat": 4,
 "nbformat_minor": 2
}
