{
 "cells": [
  {
   "cell_type": "code",
   "execution_count": 1,
   "metadata": {},
   "outputs": [],
   "source": [
    "#IMPORTAÇÃO\n",
    "#pip install yfinance\n",
    "#pip install crewai\n",
    "#pip install 'crewai[tools]'\n",
    "#pip install crewai crewai-tools\n",
    "#pip install langchain\n",
    "#pip install langchain-openia\n",
    "#pip install langchain-community\n",
    "#pip install duckduckgo-search\n",
    "#pip install streamlit"
   ]
  },
  {
   "cell_type": "code",
   "execution_count": 2,
   "metadata": {},
   "outputs": [],
   "source": [
    "#IMPORT DA LIBS\n",
    "import os\n",
    "import yfinance as yf\n",
    "from datetime import datetime\n",
    "from crewai import Agent, Task, Crew, Process\n",
    "from langchain.tools import Tool\n",
    "from langchain_community.tools import DuckDuckGoSearchResults\n",
    "from langchain_openai import ChatOpenAI"
   ]
  },
  {
   "cell_type": "code",
   "execution_count": 3,
   "metadata": {},
   "outputs": [],
   "source": [
    "# YAHOO FINANCE TOOL \n",
    "def fetch_stock_price(ticket):\n",
    "    stocks = yf.download(ticket, start=\"2023-08-08\", end=\"2024-01-08\")\n",
    "    return stocks\n",
    "\n",
    "yahoo_finance_tool = Tool(\n",
    "    name=\"Yahoo Finance Tool\",\n",
    "    description=\"Fetches stock prices for {ticket} from the last year about a specific company from Yahoo Finance API\",\n",
    "    func=lambda ticket: fetch_stock_price(ticket)\n",
    ")"
   ]
  },
  {
   "cell_type": "code",
   "execution_count": 4,
   "metadata": {},
   "outputs": [],
   "source": [
    "# LLM OPENAI - GPT 3.5 TURBO\n",
    "llm = ChatOpenAI(model=\"gpt-3.5-turbo\")"
   ]
  },
  {
   "cell_type": "code",
   "execution_count": 5,
   "metadata": {},
   "outputs": [],
   "source": [
    "# AGENTE DE BUSCA DE MERCADO\n",
    "stock_price_analyst = Agent(\n",
    "    role=\"Senior stock price analyst\",\n",
    "    goal=\"Find the {ticket} stock price and analyze trends\",\n",
    "    backstory=\"You're highly experienced in analyzing the price of a specific stock and making predictions about its future price.\",\n",
    "    verbose=True,\n",
    "    llm=llm,\n",
    "    max_iter=5,\n",
    "    memory=True,\n",
    "    allow_delegation=False,\n",
    "    tools=[yahoo_finance_tool]\n",
    ")"
   ]
  },
  {
   "cell_type": "code",
   "execution_count": 6,
   "metadata": {},
   "outputs": [],
   "source": [
    "# TAREFA\n",
    "get_stock_price = Task(\n",
    "    description=\"Analyze the stock {ticket} price history and create a trend analysis of up, down, or sideways\",\n",
    "    expected_output=\"Specify the current trend of the stock price - up, down, or sideways. Eg. stock= 'APPL', price UP\",\n",
    "    agent=stock_price_analyst\n",
    ")"
   ]
  },
  {
   "cell_type": "code",
   "execution_count": 7,
   "metadata": {},
   "outputs": [],
   "source": [
    "# DUCK DUCK GO SEARCH TOOL\n",
    "search_tool = DuckDuckGoSearchResults(backend=\"news\", num_results=10)"
   ]
  },
  {
   "cell_type": "code",
   "execution_count": 8,
   "metadata": {},
   "outputs": [],
   "source": [
    "# AGENTE DE BUSCA DE NOTÍCIAS\n",
    "news_analyst = Agent(\n",
    "    role=\"Stock news analyst\",\n",
    "    goal=\"Create a short summary of the news related to the stock {ticket} company. Specify the current trend - up, down, or sideways with the news context. For each request stock asset, specify a number between 0 and 100, where 0 is extreme fear and 100 is extreme greed.\",\n",
    "    backstory=\"You're highly experienced in analyzing market trends and news and have tracked assets for more than 10 years. You're also a master-level analyst in traditional markets with a deep understanding of human psychology. You understand news, their titles, and information, but you view them with a healthy dose of skepticism. You also consider the source of the news articles.\",\n",
    "    verbose=True,\n",
    "    llm=llm,\n",
    "    max_iter=5,\n",
    "    memory=True,\n",
    "    allow_delegation=False,\n",
    "    tools=[search_tool]\n",
    ")"
   ]
  },
  {
   "cell_type": "code",
   "execution_count": 9,
   "metadata": {},
   "outputs": [],
   "source": [
    "# TAREFA\n",
    "get_news = Task(\n",
    "    description=f\"Take the stock and always include BTC to it (if not requested). Use the search tool for each one individually. The current date is {datetime.now()}. Compose the result into a helpful report.\",\n",
    "    expected_output=\"\"\"A summary of the overall market and one sentence summary for each requested asset. Include a fear/greed score for each asset based on the news.\n",
    "    Use format: \n",
    "    <STOCK ASSET>\n",
    "    <SUMMARY BASED ON NEWS>\n",
    "    <TREND PREDICTION>\n",
    "    <FEAR/GREED SCORE>\n",
    "    \"\"\",\n",
    "    agent=news_analyst\n",
    ")"
   ]
  },
  {
   "cell_type": "code",
   "execution_count": 10,
   "metadata": {},
   "outputs": [],
   "source": [
    "# AGENTE DE ANÁLISE DE AÇÕES\n",
    "stock_analyst_write = Agent(\n",
    "    role=\"Senior stock analyst writer\",\n",
    "    goal=\"Analyze the trend price and news and write an insightful, compelling, and informative 3-paragraph-long newsletter based on the stock report and price trend.\",\n",
    "    backstory=\"You're widely accepted as the best stock analyst in the market. You understand complex concepts and create compelling stories and narratives that resonate with wider audiences. You understand macro factors and combine multiple theories - e.g., cycle theory and fundamental analysis. You're able to hold multiple opinions when analyzing.\",\n",
    "    verbose=True,\n",
    "    llm=llm,\n",
    "    max_iter=5,\n",
    "    memory=True,\n",
    "    allow_delegation=True,\n",
    "    tools=[search_tool]\n",
    ")"
   ]
  },
  {
   "cell_type": "code",
   "execution_count": 11,
   "metadata": {},
   "outputs": [],
   "source": [
    "# TAREFA\n",
    "write_analyses = Task(\n",
    "    description=\"Use the stock price trend and the stock news report to create an analysis and write the newsletter about the company that is brief and highlights the most important points. Focus on the stock price trend, news, and fear/greed score. What are the near future considerations? Include the previous analysis of stock trend and news summary.\",\n",
    "    expected_output=\"\"\"An eloquent 3-paragraph newsletter formatted as markdown in an easy-to-read manner. It should contain:\n",
    "    - 3 bullet points executive summary\n",
    "    - Introduction - set the overall picture and spike up the interest\n",
    "    - Main part provides the meat of the analysis including the news summary and fear/greed scores\n",
    "    - Summary - key facts and concrete future trend prediction - up, down, or sideways.\n",
    "    \"\"\",\n",
    "    agent=stock_analyst_write,\n",
    "    context=[get_stock_price, get_news]\n",
    ")"
   ]
  },
  {
   "cell_type": "code",
   "execution_count": 12,
   "metadata": {},
   "outputs": [],
   "source": [
    "# CONFIGURAÇÃO DO CREW\n",
    "crew = Crew(\n",
    "    agents=[stock_price_analyst, news_analyst, stock_analyst_write],\n",
    "    tasks=[get_stock_price, get_news, write_analyses],\n",
    "    verbose=True,\n",
    "    process=Process.hierarchical,\n",
    "    full_output=True,\n",
    "    share_crew=False,\n",
    "    manager_llm=llm,\n",
    "    max_iter=15\n",
    ")"
   ]
  },
  {
   "cell_type": "code",
   "execution_count": null,
   "metadata": {},
   "outputs": [],
   "source": [
    "# EXECUÇÃO DA CREW\n",
    "results= crew.kickoff(inputs={'ticket': 'AAPL'})"
   ]
  }
 ],
 "metadata": {
  "kernelspec": {
   "display_name": "Python 3",
   "language": "python",
   "name": "python3"
  },
  "language_info": {
   "codemirror_mode": {
    "name": "ipython",
    "version": 3
   },
   "file_extension": ".py",
   "mimetype": "text/x-python",
   "name": "python",
   "nbconvert_exporter": "python",
   "pygments_lexer": "ipython3",
   "version": "3.12.5"
  }
 },
 "nbformat": 4,
 "nbformat_minor": 2
}
